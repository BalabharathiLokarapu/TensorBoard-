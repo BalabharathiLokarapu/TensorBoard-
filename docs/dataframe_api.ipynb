{
  "cells": [
    {
      "cell_type": "markdown",
      "metadata": {},
      "source": [
        "TensorBoard provides an interactive GUI for viewing data logs from machine-learning training jobs. However, users sometimes want to **programmatically** read the data logs stored in TensorBoard, for purposes such as performing custom analyses and creating custom visualizations of the log data.\n",
        "\n",
        "A feature is introduced in TensorBoard v2.3 to support this use case:  `tensorboard.data.experimental.ExperimentFromDev()`. It allows prgorammatic access to TensorBoard's scalar logs.\n",
        "\n",
        "Please note:\n",
        "1. the API is still in its experimental stage, as reflected by its API namespace. \n",
        "2. this API currently supports only experimental uploaded to [tensorboard.dev](https://tensorboard.dev).   Support for locally stored TensorBoard logdir will be added in the future "
      ]
    }
  ],
  "metadata": {
    "colab": {
      "name": "dataframe_api.ipynb",
      "provenance": [],
      "toc_visible": true
    },
    "kernelspec": {
      "display_name": "Python 3",
      "language": "python",
      "name": "python3"
    }
  },
  "nbformat": 4,
  "nbformat_minor": 0
}
