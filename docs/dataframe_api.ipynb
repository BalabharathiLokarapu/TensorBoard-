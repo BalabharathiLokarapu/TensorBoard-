{
  "cells": [
    {
      "cell_type": "markdown",
      "metadata": {
        "colab_type": "text",
        "id": "djUvWu41mtXa"
      },
      "source": [
        "##### Copyright 2020 The TensorFlow Authors."
      ]
    },
    {
      "cell_type": "code",
      "execution_count": 0,
      "metadata": {
        "cellView": "form",
        "colab": {},
        "colab_type": "code",
        "id": "su2RaORHpReL"
      },
      "outputs": [],
      "source": [
        "#@title Licensed under the Apache License, Version 2.0 (the \"License\");\n",
        "# you may not use this file except in compliance with the License.\n",
        "# You may obtain a copy of the License at\n",
        "#\n",
        "# https://www.apache.org/licenses/LICENSE-2.0\n",
        "#\n",
        "# Unless required by applicable law or agreed to in writing, software\n",
        "# distributed under the License is distributed on an \"AS IS\" BASIS,\n",
        "# WITHOUT WARRANTIES OR CONDITIONS OF ANY KIND, either express or implied.\n",
        "# See the License for the specific language governing permissions and\n",
        "# limitations under the License."
      ]
    },
    {
      "cell_type": "markdown",
      "metadata": {
        "colab_type": "text",
        "id": "NztQK2uFpXT-"
      },
      "source": [
        "# TensorBoard DataFrame API"
      ]
    },
    {
      "cell_type": "markdown",
      "metadata": {
        "colab_type": "text",
        "id": "eDXRFe_qp5C3"
      },
      "source": [
        "## Overview\n",
        "\n",
        "TensorBoard provides an interactive GUI for viewing data logs from machine-learning training jobs. However, users sometimes want to **programmatically** read the data logs stored in TensorBoard, for purposes such as performing custom analyses and creating custom visualizations of the log data.\n",
        "\n",
        "A feature is introduced in TensorBoard v2.3 to support this use case:  `tensorboard.data.experimental.ExperimentFromDev()`. It allows prgorammatic access to TensorBoard's scalar logs.\n",
        "\n",
        "Please note:\n",
        "1. the API is still in its experimental stage, as reflected by its API namespace. \n",
        "2. this API currently supports only experimental uploaded to [tensorboard.dev](https://tensorboard.dev).   Support for locally stored TensorBoard logdir will be added in the future "
      ]
    },
    {
      "cell_type": "code",
      "execution_count": null,
      "metadata": {
        "colab_type": "text",
        "id": "dG-nnZK9qW9z"
      },
      "outputs": [],
      "source": [
        "# Setup: pandas must be installed separately in order to use this\n",
        "# new tensorboard API.\n",
        "!pip install pandas tensorboard"
      ]
    },
    {
      "cell_type": "code",
      "execution_count": 2,
      "metadata": {
        "colab": {},
        "colab_type": "code",
        "id": "3U5gdCw_nSG3"
      },
      "outputs": [],
      "source": [
        "from packaging import version\n",
        "\n",
        "import tensorboard as tb"
      ]
    },
    {
      "cell_type": "code",
      "execution_count": 8,
      "metadata": {
        "colab": {
          "base_uri": "https://localhost:8080/",
          "height": 34
        },
        "colab_type": "code",
        "id": "1qIKtOBrqc9Y",
        "outputId": "cb1b3125-6f75-4fe7-ac5e-07954b5d6847"
      },
      "outputs": [
        {
          "name": "stdout",
          "output_type": "stream",
          "text": [
            "TensorBoard version:  2.3.0a20200615\n"
          ]
        }
      ],
      "source": [
        "print(\"TensorBoard version: \", tb.__version__)\n",
        "major_ver, minor_ver, _ = version.parse(tb.__version__).release\n",
        "assert major_ver >= 2 and minor_ver >= 3, \\\n",
        "    \"This notebook requires TensorBoard 2.3 or above.\""
      ]
    },
    {
      "cell_type": "code",
      "execution_count": null,
      "metadata": {},
      "outputs": [],
      "source": [
        "experiment = tb.data.experimental.ExperimentFromDev(\"AdYd1TgeTlaLWXx6I8JUbA\")"
      ]
    }
  ],
  "metadata": {
    "colab": {
      "collapsed_sections": [],
      "name": "dataframe_api.ipynb",
      "provenance": [],
      "toc_visible": true,
      "version": "0.3.2"
    },
    "kernelspec": {
      "display_name": "Python 3",
      "language": "python",
      "name": "python3"
    }
  },
  "nbformat": 4,
  "nbformat_minor": 0
}
