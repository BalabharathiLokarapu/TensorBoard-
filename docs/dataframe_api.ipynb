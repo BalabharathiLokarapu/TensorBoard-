{
  "cells": [
    {
      "cell_type": "markdown",
      "metadata": {
        "colab_type": "text",
        "id": "djUvWu41mtXa"
      },
      "source": [
        "##### Copyright 2020 The TensorFlow Authors."
      ]
    },
    {
      "cell_type": "code",
      "execution_count": null,
      "metadata": {
        "cellView": "form",
        "colab": {},
        "colab_type": "code",
        "id": "su2RaORHpReL"
      },
      "outputs": [],
      "source": [
        "#@title Licensed under the Apache License, Version 2.0 (the \"License\");\n",
        "# you may not use this file except in compliance with the License.\n",
        "# You may obtain a copy of the License at\n",
        "#\n",
        "# https://www.apache.org/licenses/LICENSE-2.0\n",
        "#\n",
        "# Unless required by applicable law or agreed to in writing, software\n",
        "# distributed under the License is distributed on an \"AS IS\" BASIS,\n",
        "# WITHOUT WARRANTIES OR CONDITIONS OF ANY KIND, either express or implied.\n",
        "# See the License for the specific language governing permissions and\n",
        "# limitations under the License."
      ]
    },
    {
      "cell_type": "markdown",
      "metadata": {
        "colab_type": "text",
        "id": "NztQK2uFpXT-"
      },
      "source": [
        "# TensorBoard DataFrame API"
      ]
    },
    {
      "cell_type": "markdown",
      "metadata": {
        "colab_type": "text",
        "id": "eDXRFe_qp5C3"
      },
      "source": [
        "## Overview\n",
        "\n",
        "TensorBoard provides an interactive GUI for viewing data logs from machine-learning training jobs. However, users sometimes want to **programmatically** read the data logs stored in TensorBoard, for purposes such as performing custom analyses and creating custom visualizations of the log data.\n",
        "\n",
        "A feature is introduced in TensorBoard v2.3 to support this use case:  `tensorboard.data.experimental.ExperimentFromDev()`. It allows prgorammatic access to TensorBoard's scalar logs.\n",
        "\n",
        "Please note:\n",
        "1. the API is still in its experimental stage, as reflected by its API namespace. This means the API may be subject to breaking changes in the future.\n",
        "2. this API currently supports only experimental uploaded to [tensorboard.dev](https://tensorboard.dev).   Support for locally stored TensorBoard logdir will be added in the future "
      ]
    },
    {
      "cell_type": "markdown",
      "metadata": {},
      "source": [
        "## Setup\n",
        "\n",
        "pandas must be installed alongside tensorboard to make the new API usable.\n",
        "If you intend to make custom plots by using the data output by the new API, matplotlib must be installed as well."
      ]
    },
    {
      "cell_type": "code",
      "execution_count": null,
      "metadata": {
        "colab_type": "text",
        "id": "dG-nnZK9qW9z"
      },
      "outputs": [],
      "source": [
        "!pip install pandas matplotlib\n",
        "!pip install tensorboard"
      ]
    },
    {
      "cell_type": "code",
      "execution_count": 1,
      "metadata": {
        "colab": {},
        "colab_type": "code",
        "id": "3U5gdCw_nSG3"
      },
      "outputs": [],
      "source": [
        "from packaging import version\n",
        "\n",
        "from matplotlib import pyplot\n",
        "import tensorboard as tb"
      ]
    },
    {
      "cell_type": "code",
      "execution_count": 2,
      "metadata": {
        "colab": {
          "base_uri": "https://localhost:8080/",
          "height": 34
        },
        "colab_type": "code",
        "id": "1qIKtOBrqc9Y",
        "outputId": "cb1b3125-6f75-4fe7-ac5e-07954b5d6847"
      },
      "outputs": [
        {
          "name": "stdout",
          "output_type": "stream",
          "text": [
            "TensorBoard version:  2.3.0a20200615\n"
          ]
        }
      ],
      "source": [
        "major_ver, minor_ver, _ = version.parse(tb.__version__).release\n",
        "assert major_ver >= 2 and minor_ver >= 3, \\\n",
        "    \"This notebook requires TensorBoard 2.3 or above.\"\n",
        "print(\"TensorBoard version: \", tb.__version__)"
      ]
    },
    {
      "cell_type": "markdown",
      "metadata": {},
      "source": [
        "## Loading TensorBoard scalars as a pandas.DataFrame"
      ]
    },
    {
      "cell_type": "code",
      "execution_count": 3,
      "metadata": {},
      "outputs": [
        {
          "data": {
            "text/html": [
              "<div>\n",
              "<style scoped>\n",
              "    .dataframe tbody tr th:only-of-type {\n",
              "        vertical-align: middle;\n",
              "    }\n",
              "\n",
              "    .dataframe tbody tr th {\n",
              "        vertical-align: top;\n",
              "    }\n",
              "\n",
              "    .dataframe thead th {\n",
              "        text-align: right;\n",
              "    }\n",
              "</style>\n",
              "<table border=\"1\" class=\"dataframe\">\n",
              "  <thead>\n",
              "    <tr style=\"text-align: right;\">\n",
              "      <th></th>\n",
              "      <th>run</th>\n",
              "      <th>tag</th>\n",
              "      <th>step</th>\n",
              "      <th>value</th>\n",
              "    </tr>\n",
              "  </thead>\n",
              "  <tbody>\n",
              "    <tr>\n",
              "      <th>0</th>\n",
              "      <td>lr_1E-03,conv=1,fc=2</td>\n",
              "      <td>accuracy/accuracy</td>\n",
              "      <td>0</td>\n",
              "      <td>0.150000</td>\n",
              "    </tr>\n",
              "    <tr>\n",
              "      <th>1</th>\n",
              "      <td>lr_1E-03,conv=1,fc=2</td>\n",
              "      <td>accuracy/accuracy</td>\n",
              "      <td>5</td>\n",
              "      <td>0.340000</td>\n",
              "    </tr>\n",
              "    <tr>\n",
              "      <th>2</th>\n",
              "      <td>lr_1E-03,conv=1,fc=2</td>\n",
              "      <td>accuracy/accuracy</td>\n",
              "      <td>10</td>\n",
              "      <td>0.480000</td>\n",
              "    </tr>\n",
              "    <tr>\n",
              "      <th>3</th>\n",
              "      <td>lr_1E-03,conv=1,fc=2</td>\n",
              "      <td>accuracy/accuracy</td>\n",
              "      <td>15</td>\n",
              "      <td>0.540000</td>\n",
              "    </tr>\n",
              "    <tr>\n",
              "      <th>4</th>\n",
              "      <td>lr_1E-03,conv=1,fc=2</td>\n",
              "      <td>accuracy/accuracy</td>\n",
              "      <td>20</td>\n",
              "      <td>0.740000</td>\n",
              "    </tr>\n",
              "    <tr>\n",
              "      <th>...</th>\n",
              "      <td>...</td>\n",
              "      <td>...</td>\n",
              "      <td>...</td>\n",
              "      <td>...</td>\n",
              "    </tr>\n",
              "    <tr>\n",
              "      <th>3203</th>\n",
              "      <td>lr_1E-04,conv=2,fc=2</td>\n",
              "      <td>xent/xent_1</td>\n",
              "      <td>1980</td>\n",
              "      <td>0.012492</td>\n",
              "    </tr>\n",
              "    <tr>\n",
              "      <th>3204</th>\n",
              "      <td>lr_1E-04,conv=2,fc=2</td>\n",
              "      <td>xent/xent_1</td>\n",
              "      <td>1985</td>\n",
              "      <td>0.018683</td>\n",
              "    </tr>\n",
              "    <tr>\n",
              "      <th>3205</th>\n",
              "      <td>lr_1E-04,conv=2,fc=2</td>\n",
              "      <td>xent/xent_1</td>\n",
              "      <td>1990</td>\n",
              "      <td>0.052482</td>\n",
              "    </tr>\n",
              "    <tr>\n",
              "      <th>3206</th>\n",
              "      <td>lr_1E-04,conv=2,fc=2</td>\n",
              "      <td>xent/xent_1</td>\n",
              "      <td>1995</td>\n",
              "      <td>0.102685</td>\n",
              "    </tr>\n",
              "    <tr>\n",
              "      <th>3207</th>\n",
              "      <td>lr_1E-04,conv=2,fc=2</td>\n",
              "      <td>xent/xent_1</td>\n",
              "      <td>2000</td>\n",
              "      <td>0.083112</td>\n",
              "    </tr>\n",
              "  </tbody>\n",
              "</table>\n",
              "<p>3208 rows × 4 columns</p>\n",
              "</div>"
            ],
            "text/plain": [
              "                       run                tag  step     value\n",
              "0     lr_1E-03,conv=1,fc=2  accuracy/accuracy     0  0.150000\n",
              "1     lr_1E-03,conv=1,fc=2  accuracy/accuracy     5  0.340000\n",
              "2     lr_1E-03,conv=1,fc=2  accuracy/accuracy    10  0.480000\n",
              "3     lr_1E-03,conv=1,fc=2  accuracy/accuracy    15  0.540000\n",
              "4     lr_1E-03,conv=1,fc=2  accuracy/accuracy    20  0.740000\n",
              "...                    ...                ...   ...       ...\n",
              "3203  lr_1E-04,conv=2,fc=2        xent/xent_1  1980  0.012492\n",
              "3204  lr_1E-04,conv=2,fc=2        xent/xent_1  1985  0.018683\n",
              "3205  lr_1E-04,conv=2,fc=2        xent/xent_1  1990  0.052482\n",
              "3206  lr_1E-04,conv=2,fc=2        xent/xent_1  1995  0.102685\n",
              "3207  lr_1E-04,conv=2,fc=2        xent/xent_1  2000  0.083112\n",
              "\n",
              "[3208 rows x 4 columns]"
            ]
          },
          "execution_count": 3,
          "metadata": {},
          "output_type": "execute_result"
        }
      ],
      "source": [
        "experiment_id = \"AdYd1TgeTlaLWXx6I8JUbA\"\n",
        "experiment = tb.data.experimental.ExperimentFromDev(experiment_id)\n",
        "df1 = experiment.get_scalars()\n",
        "df1"
      ]
    },
    {
      "cell_type": "markdown",
      "metadata": {},
      "source": [
        "## Making custom plots using the DataFrame"
      ]
    },
    {
      "cell_type": "code",
      "execution_count": 4,
      "metadata": {},
      "outputs": [
        {
          "data": {
            "text/plain": [
              "<matplotlib.axes._subplots.AxesSubplot at 0x7f72f1459210>"
            ]
          },
          "execution_count": 4,
          "metadata": {},
          "output_type": "execute_result"
        },
        {
          "data": {
            "image/png": "[encoded data removed]",
            "text/plain": [
              "<Figure size 432x288 with 1 Axes>"
            ]
          },
          "metadata": {
            "needs_background": "light"
          },
          "output_type": "display_data"
        }
      ],
      "source": [
        "# To make a plot using the dataframe:\n",
        "data = df1[df1[\"run\"] == \"lr_1E-03,conv=1,fc=2\"]\n",
        "data = data[data[\"tag\"] == \"xent/xent_1\"]\n",
        "data.plot(x=\"step\", y=\"value\")"
      ]
    }
  ],
  "metadata": {
    "colab": {
      "collapsed_sections": [],
      "name": "dataframe_api.ipynb",
      "provenance": [],
      "toc_visible": true,
      "version": "0.3.2"
    },
    "kernelspec": {
      "display_name": "Python 3",
      "language": "python",
      "name": "python3"
    }
  },
  "nbformat": 4,
  "nbformat_minor": 0
}
