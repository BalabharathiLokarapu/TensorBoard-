{
  "nbformat": 4,
  "nbformat_minor": 0,
  "metadata": {
    "colab": {
      "name": "tensorboard_in_notebooks.ipynb",
      "version": "0.3.2",
      "provenance": [],
      "collapsed_sections": [],
      "toc_visible": true
    },
    "kernelspec": {
      "name": "python3",
      "display_name": "Python 3"
    }
  },
  "cells": [
    {
      "metadata": {
        "id": "TsHV-7cpVkyK",
        "colab_type": "text"
      },
      "cell_type": "markdown",
      "source": [
        "##### Copyright 2019 The TensorFlow Authors."
      ]
    },
    {
      "metadata": {
        "id": "atWM-s8yVnfX",
        "colab_type": "code",
        "colab": {}
      },
      "cell_type": "code",
      "source": [
        "#@title Licensed under the Apache License, Version 2.0 (the \"License\");\n",
        "# you may not use this file except in compliance with the License.\n",
        "# You may obtain a copy of the License at\n",
        "#\n",
        "# https://www.apache.org/licenses/LICENSE-2.0\n",
        "#\n",
        "# Unless required by applicable law or agreed to in writing, software\n",
        "# distributed under the License is distributed on an \"AS IS\" BASIS,\n",
        "# WITHOUT WARRANTIES OR CONDITIONS OF ANY KIND, either express or implied.\n",
        "# See the License for the specific language governing permissions and\n",
        "# limitations under the License."
      ],
      "execution_count": 0,
      "outputs": []
    },
    {
      "metadata": {
        "id": "TB0wBWfcVqHz",
        "colab_type": "text"
      },
      "cell_type": "markdown",
      "source": [
        "# Using TensorBoard in Notebooks\n",
        "\n",
        "<table class=\"tfo-notebook-buttons\" align=\"left\">\n",
        "  <td>\n",
        "    <a target=\"_blank\" href=\"https://www.tensorflow.org/tensorboard/r2/tensorboard_in_notebooks\"><img src=\"https://www.tensorflow.org/images/tf_logo_32px.png\" />View on TensorFlow.org</a>\n",
        "  </td>\n",
        "  <td>\n",
        "    <a target=\"_blank\" href=\"https://colab.research.google.com/github/tensorflow/tensorboard/blob/master/docs/r2/tensorboard_in_notebooks.ipynb\"><img src=\"https://www.tensorflow.org/images/colab_logo_32px.png\" />Run in Google Colab</a>\n",
        "  </td>\n",
        "  <td>\n",
        "    <a target=\"_blank\" href=\"https://github.com/tensorflow/tensorboard/blob/master/docs/r2/tensorboard_in_notebooks.ipynb\"><img src=\"https://www.tensorflow.org/images/GitHub-Mark-32px.png\" />View source on GitHub</a>\n",
        "  </td>\n",
        "</table>"
      ]
    },
    {
      "metadata": {
        "id": "elH58gbhWAmn",
        "colab_type": "text"
      },
      "cell_type": "markdown",
      "source": [
        "TensorBoard can be used directly within notebook experiences such as [Colab](https://colab.research.google.com/) and [Jupyter](https://jupyter.org/). This can be helpful for sharing results, integrating TensorBoard into existing workflows, and using TensorBoard without installing anything locallty."
      ]
    },
    {
      "metadata": {
        "id": "VszJNloY3ZU3",
        "colab_type": "text"
      },
      "cell_type": "markdown",
      "source": [
        "## Setup"
      ]
    },
    {
      "metadata": {
        "id": "E6QhA_dp3eRq",
        "colab_type": "text"
      },
      "cell_type": "markdown",
      "source": [
        "Start by installing TF 2.0 and loading the TensorBoard notebook extension:"
      ]
    },
    {
      "metadata": {
        "id": "8p3Tbx8cWEFA",
        "colab_type": "code",
        "outputId": "e9b9d331-d8c6-46d7-9d4f-ef28eb9799ac",
        "colab": {
          "base_uri": "https://localhost:8080/",
          "height": 85
        }
      },
      "cell_type": "code",
      "source": [
        "!pip install -q tf-nightly-2.0-preview\n",
        "# Load the TensorBoard notebook extension\n",
        "%load_ext tensorboard.notebook "
      ],
      "execution_count": 0,
      "outputs": [
        {
          "output_type": "stream",
          "text": [
            "\u001b[K    100% |████████████████████████████████| 79.8MB 404kB/s \n",
            "\u001b[K    100% |████████████████████████████████| 348kB 17.9MB/s \n",
            "\u001b[K    100% |████████████████████████████████| 61kB 21.1MB/s \n",
            "\u001b[K    100% |████████████████████████████████| 3.0MB 8.8MB/s \n",
            "\u001b[?25h"
          ],
          "name": "stdout"
        }
      ]
    },
    {
      "metadata": {
        "id": "9GtR_cTTkf9G",
        "colab_type": "text"
      },
      "cell_type": "markdown",
      "source": [
        "Import TensorFlow and datetime:"
      ]
    },
    {
      "metadata": {
        "id": "mVtYvbbIWRkV",
        "colab_type": "code",
        "colab": {}
      },
      "cell_type": "code",
      "source": [
        "import tensorflow as tf\n",
        "import datetime"
      ],
      "execution_count": 0,
      "outputs": []
    },
    {
      "metadata": {
        "id": "Cu1fbH-S3oAX",
        "colab_type": "text"
      },
      "cell_type": "markdown",
      "source": [
        "## TensorBoard in notebooks"
      ]
    },
    {
      "metadata": {
        "id": "XfCa27_8kov6",
        "colab_type": "text"
      },
      "cell_type": "markdown",
      "source": [
        "Download the [FashionMNIST](https://github.com/zalandoresearch/fashion-mnist) dataset and scale it:"
      ]
    },
    {
      "metadata": {
        "id": "z8b82G7YksOS",
        "colab_type": "code",
        "outputId": "526a6ccb-c734-4d39-9a08-b24c87b6e345",
        "colab": {
          "base_uri": "https://localhost:8080/",
          "height": 153
        }
      },
      "cell_type": "code",
      "source": [
        "fashion_mnist = tf.keras.datasets.fashion_mnist\n",
        "\n",
        "(x_train, y_train),(x_test, y_test) = fashion_mnist.load_data()\n",
        "x_train, x_test = x_train / 255.0, x_test / 255.0"
      ],
      "execution_count": 0,
      "outputs": [
        {
          "output_type": "stream",
          "text": [
            "Downloading data from https://storage.googleapis.com/tensorflow/tf-keras-datasets/train-labels-idx1-ubyte.gz\n",
            "32768/29515 [=================================] - 0s 0us/step\n",
            "Downloading data from https://storage.googleapis.com/tensorflow/tf-keras-datasets/train-images-idx3-ubyte.gz\n",
            "26427392/26421880 [==============================] - 0s 0us/step\n",
            "Downloading data from https://storage.googleapis.com/tensorflow/tf-keras-datasets/t10k-labels-idx1-ubyte.gz\n",
            "8192/5148 [===============================================] - 0s 0us/step\n",
            "Downloading data from https://storage.googleapis.com/tensorflow/tf-keras-datasets/t10k-images-idx3-ubyte.gz\n",
            "4423680/4422102 [==============================] - 0s 0us/step\n"
          ],
          "name": "stdout"
        }
      ]
    },
    {
      "metadata": {
        "id": "lBk1BqAZKEKd",
        "colab_type": "text"
      },
      "cell_type": "markdown",
      "source": [
        "Create a very simple model:"
      ]
    },
    {
      "metadata": {
        "id": "OS7qGYiMKGQl",
        "colab_type": "code",
        "colab": {}
      },
      "cell_type": "code",
      "source": [
        "def create_model():\n",
        "  return tf.keras.models.Sequential([\n",
        "    tf.keras.layers.Flatten(input_shape=(28, 28)),\n",
        "    tf.keras.layers.Dense(512, activation='relu'),\n",
        "    tf.keras.layers.Dropout(0.2),\n",
        "    tf.keras.layers.Dense(10, activation='softmax')\n",
        "  ])"
      ],
      "execution_count": 0,
      "outputs": []
    },
    {
      "metadata": {
        "id": "RNaPPs5ZKNOV",
        "colab_type": "text"
      },
      "cell_type": "markdown",
      "source": [
        "Train the model using Keras and the TensorBoard callback:"
      ]
    },
    {
      "metadata": {
        "id": "lpUO9HqUKP6z",
        "colab_type": "code",
        "outputId": "632c848d-6cd1-4b37-d295-a9e9e42aaca3",
        "colab": {
          "base_uri": "https://localhost:8080/",
          "height": 204
        }
      },
      "cell_type": "code",
      "source": [
        "def train_model():\n",
        "  \n",
        "  model = create_model()\n",
        "  model.compile(optimizer='adam',\n",
        "                loss='sparse_categorical_crossentropy',\n",
        "                metrics=['accuracy'])\n",
        "\n",
        "  log_dir=\"logs/\" + datetime.datetime.now().strftime(\"%Y%m%d-%H%M%S\")\n",
        "  tensorboard_callback = tf.keras.callbacks.TensorBoard(log_dir=log_dir, histogram_freq=1)\n",
        "\n",
        "  model.fit(x=x_train, \n",
        "            y=y_train, \n",
        "            epochs=5, \n",
        "            validation_data=(x_test, y_test), \n",
        "            callbacks=[tensorboard_callback])\n",
        "\n",
        "train_model()"
      ],
      "execution_count": 0,
      "outputs": [
        {
          "output_type": "stream",
          "text": [
            "Train on 60000 samples, validate on 10000 samples\n",
            "Epoch 1/5\n",
            "60000/60000 [==============================] - 13s 212us/sample - loss: 0.4947 - accuracy: 0.8219 - val_loss: 0.4282 - val_accuracy: 0.8423\n",
            "Epoch 2/5\n",
            "60000/60000 [==============================] - 13s 222us/sample - loss: 0.3796 - accuracy: 0.8618 - val_loss: 0.3916 - val_accuracy: 0.8563\n",
            "Epoch 3/5\n",
            "60000/60000 [==============================] - 12s 201us/sample - loss: 0.3488 - accuracy: 0.8726 - val_loss: 0.3813 - val_accuracy: 0.8616\n",
            "Epoch 4/5\n",
            "60000/60000 [==============================] - 12s 201us/sample - loss: 0.3266 - accuracy: 0.8793 - val_loss: 0.3479 - val_accuracy: 0.8775\n",
            "Epoch 5/5\n",
            "60000/60000 [==============================] - 12s 197us/sample - loss: 0.3128 - accuracy: 0.8840 - val_loss: 0.3668 - val_accuracy: 0.8617\n"
          ],
          "name": "stdout"
        }
      ]
    },
    {
      "metadata": {
        "id": "SxvXc4hoKW7d",
        "colab_type": "text"
      },
      "cell_type": "markdown",
      "source": [
        "Start TensorBoard within the notebook using [magics](https://ipython.readthedocs.io/en/stable/interactive/magics.html):"
      ]
    },
    {
      "metadata": {
        "id": "KBHp6M_zgjp4",
        "colab_type": "code",
        "colab": {}
      },
      "cell_type": "code",
      "source": [
        "%tensorboard --logdir logs"
      ],
      "execution_count": 0,
      "outputs": []
    },
    {
      "metadata": {
        "id": "Po7rTfQswAMT",
        "colab_type": "text"
      },
      "cell_type": "markdown",
      "source": [
        "<img class=\"tfo-display-only-on-site\" src=\"images/notebook_tensorboard.png?raw=1\"/>"
      ]
    },
    {
      "metadata": {
        "id": "aQq3UHgmLBpC",
        "colab_type": "text"
      },
      "cell_type": "markdown",
      "source": [
        "You can now view dashboards such as scalars, graphs, histograms, and others. Some dashboards are not available yet in Colab (such as the profile plugin).\n",
        "\n",
        "Note that the format is very similar to how TensorBoard would be used from the command line."
      ]
    },
    {
      "metadata": {
        "id": "NiIMwOG8MR_g",
        "colab_type": "text"
      },
      "cell_type": "markdown",
      "source": [
        "You can also start TensorBoard before training to monitor it in progress:"
      ]
    },
    {
      "metadata": {
        "id": "qyI5lrXoMw9K",
        "colab_type": "code",
        "colab": {}
      },
      "cell_type": "code",
      "source": [
        "%tensorboard --logdir logs"
      ],
      "execution_count": 0,
      "outputs": []
    },
    {
      "metadata": {
        "id": "ALxC8BbWWV91",
        "colab_type": "text"
      },
      "cell_type": "markdown",
      "source": [
        "<img class=\"tfo-display-only-on-site\" src=\"images/notebook_tensorboard_two_runs.png?raw=1\"/>"
      ]
    },
    {
      "metadata": {
        "id": "GUSM8yLrO2yZ",
        "colab_type": "text"
      },
      "cell_type": "markdown",
      "source": [
        "The same TensorBoard backend is reused by issuing the same command. If a different logs directory was chosen, a new instance of TensorBoard would be opened. Ports are managed automatically. \n",
        "\n",
        "Start training a new model and watch TensorBoard update automatically every 30 seconds or refresh it with the button on the top right:"
      ]
    },
    {
      "metadata": {
        "id": "ixZlmtWhMyr4",
        "colab_type": "code",
        "outputId": "9dd5d75f-7d96-4b26-d0bf-409e9038baef",
        "colab": {
          "base_uri": "https://localhost:8080/",
          "height": 204
        }
      },
      "cell_type": "code",
      "source": [
        "train_model()"
      ],
      "execution_count": 0,
      "outputs": [
        {
          "output_type": "stream",
          "text": [
            "Train on 60000 samples, validate on 10000 samples\n",
            "Epoch 1/5\n",
            "60000/60000 [==============================] - 12s 208us/sample - loss: 0.4939 - accuracy: 0.8242 - val_loss: 0.4274 - val_accuracy: 0.8408\n",
            "Epoch 2/5\n",
            "60000/60000 [==============================] - 12s 198us/sample - loss: 0.3827 - accuracy: 0.8610 - val_loss: 0.4030 - val_accuracy: 0.8528\n",
            "Epoch 3/5\n",
            "60000/60000 [==============================] - 12s 193us/sample - loss: 0.3516 - accuracy: 0.8721 - val_loss: 0.3954 - val_accuracy: 0.8553\n",
            "Epoch 4/5\n",
            "60000/60000 [==============================] - 12s 198us/sample - loss: 0.3275 - accuracy: 0.8786 - val_loss: 0.3760 - val_accuracy: 0.8609\n",
            "Epoch 5/5\n",
            "60000/60000 [==============================] - 12s 201us/sample - loss: 0.3128 - accuracy: 0.8840 - val_loss: 0.3498 - val_accuracy: 0.8736\n"
          ],
          "name": "stdout"
        }
      ]
    },
    {
      "metadata": {
        "id": "IlDz2oXBgnZ9",
        "colab_type": "text"
      },
      "cell_type": "markdown",
      "source": [
        "You can use the `tensorboard.notebook` APIs for a bit more control:"
      ]
    },
    {
      "metadata": {
        "id": "ko9qeSQHLrEh",
        "colab_type": "code",
        "outputId": "08ab2dd1-5bb2-4786-a996-31aa19edb0eb",
        "colab": {
          "base_uri": "https://localhost:8080/",
          "height": 51
        }
      },
      "cell_type": "code",
      "source": [
        "from tensorboard import notebook\n",
        "notebook.list() # View open TensorBoard instances"
      ],
      "execution_count": 0,
      "outputs": [
        {
          "output_type": "stream",
          "text": [
            "Known TensorBoard instances:\n",
            "  - port 6006: logdir logs (started 0:02:47 ago; pid 282)\n"
          ],
          "name": "stdout"
        }
      ]
    },
    {
      "metadata": {
        "id": "hzm9DNVILxJe",
        "colab_type": "code",
        "colab": {}
      },
      "cell_type": "code",
      "source": [
        "# Control TensorBoard display. If no port is provided, \n",
        "# the most recently launched TensorBoard is used\n",
        "notebook.display(port=6006, height=1000) "
      ],
      "execution_count": 0,
      "outputs": []
    },
    {
      "metadata": {
        "id": "za2GqzKiWY-R",
        "colab_type": "text"
      },
      "cell_type": "markdown",
      "source": [
        "<img class=\"tfo-display-only-on-site\" src=\"images/notebook_tensorboard_tall.png?raw=1\"/>"
      ]
    }
  ]
}